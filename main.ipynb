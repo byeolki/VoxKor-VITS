{
 "cells": [
  {
   "cell_type": "markdown",
   "metadata": {},
   "source": [
    "# Data Parsing"
   ]
  },
  {
   "cell_type": "code",
   "execution_count": 7,
   "metadata": {},
   "outputs": [],
   "source": [
    "import os, json\n",
    "\n",
    "def json2text(json_path):\n",
    "    dir_name = os.path.dirname(json_path)\n",
    "    with open(json_path, 'r') as f:\n",
    "        data = json.load(f)\n",
    "    lines = []\n",
    "    for filename, text in data.items():\n",
    "        lines.append(f'{filename}|{text}\\n')\n",
    "    with open(os.path.join(dir_name, f'{os.path.basename(json_path)[:-5]}.txt'), 'w', encoding='utf-8') as f:\n",
    "        f.writelines(lines)"
   ]
  },
  {
   "cell_type": "code",
   "execution_count": 8,
   "metadata": {},
   "outputs": [],
   "source": [
    "json2text('./tts_data/Male/MP3_data.json')"
   ]
  },
  {
   "cell_type": "markdown",
   "metadata": {},
   "source": [
    "# Training"
   ]
  },
  {
   "cell_type": "code",
   "execution_count": 1,
   "metadata": {},
   "outputs": [
    {
     "name": "stdout",
     "output_type": "stream",
     "text": [
      "c:\\Users\\byeol\\OneDrive\\바탕 화면\\BYEOLKI\\dksh_portfolio\\TTS\\vits\n"
     ]
    },
    {
     "name": "stderr",
     "output_type": "stream",
     "text": [
      "C:\\Users\\byeol\\AppData\\Roaming\\Python\\Python310\\site-packages\\IPython\\core\\magics\\osm.py:417: UserWarning: This is now an optional IPython functionality, setting dhist requires you to install the `pickleshare` library.\n",
      "  self.shell.db['dhist'] = compress_dhist(dhist)[-100:]\n"
     ]
    }
   ],
   "source": [
    "%cd vits"
   ]
  },
  {
   "cell_type": "code",
   "execution_count": 7,
   "metadata": {},
   "outputs": [
    {
     "name": "stderr",
     "output_type": "stream",
     "text": [
      "Traceback (most recent call last):\n",
      "  File \"c:\\Users\\byeol\\OneDrive\\바탕 화면\\BYEOLKI\\dksh_portfolio\\TTS\\vits\\preprocess.py\", line 82, in <module>\n",
      "    preprocess(args.files)\n",
      "  File \"c:\\Users\\byeol\\OneDrive\\바탕 화면\\BYEOLKI\\dksh_portfolio\\TTS\\vits\\preprocess.py\", line 5, in preprocess\n",
      "    os.mkdir(f'./assets/{MODEL_NAME}')\n",
      "FileExistsError: [WinError 183] 파일이 이미 있으므로 만들 수 없습니다: './assets/Male'\n"
     ]
    }
   ],
   "source": [
    "!python ./preprocess.py -m Male -f ../tts_data/Male/MP3_data.txt"
   ]
  },
  {
   "cell_type": "code",
   "execution_count": null,
   "metadata": {},
   "outputs": [],
   "source": [
    "!python train.py -m Male"
   ]
  }
 ],
 "metadata": {
  "kernelspec": {
   "display_name": "Python 3",
   "language": "python",
   "name": "python3"
  },
  "language_info": {
   "codemirror_mode": {
    "name": "ipython",
    "version": 3
   },
   "file_extension": ".py",
   "mimetype": "text/x-python",
   "name": "python",
   "nbconvert_exporter": "python",
   "pygments_lexer": "ipython3",
   "version": "3.10.11"
  }
 },
 "nbformat": 4,
 "nbformat_minor": 2
}
